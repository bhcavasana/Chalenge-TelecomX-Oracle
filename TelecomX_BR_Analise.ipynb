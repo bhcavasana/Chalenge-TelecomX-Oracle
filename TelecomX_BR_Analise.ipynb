{
 "cells": [
  {
   "cell_type": "markdown",
   "metadata": {
    "id": "4foVEKhrlqcH"
   },
   "source": [
    "# Análise de Evasão de Clientes - Telecom X\n",
    "\n",
    "## 📖 Contexto\n",
    "\n",
    "Neste projeto, nosso objetivo é realizar uma análise exploratória detalhada sobre os dados de uma empresa de telecomunicações fictícia, a Telecom X. O foco principal é identificar os fatores que mais contribuem para a evasão de clientes, conhecida como **Churn**. Compreender os motivos que levam os clientes a cancelar seus serviços é crucial para desenvolver estratégias de retenção eficazes e melhorar a satisfação geral."
   ]
  },
  {
   "cell_type": "markdown",
   "metadata": {
    "id": "intro_extracao"
   },
   "source": [
    "## 📌 Extração\n",
    "A primeira etapa do nosso processo de análise consiste na extração dos dados. Nesta fase, carregamos as bibliotecas necessárias para manipulação e visualização de dados e importamos as informações do arquivo `TelecomX_Data.json` para o nosso ambiente de trabalho. A extração correta é fundamental para garantir que temos a matéria-prima necessária para as próximas etapas de transformação e análise."
   ]
  },
  {
   "cell_type": "code",
   "execution_count": 1,
   "metadata": {
    "id": "1--uPM88l7JH"
   },
   "outputs": [],
   "source": [
    "import pandas as pd\n",
    "import numpy as np\n",
    "import json\n",
    "import matplotlib.pyplot as plt\n",
    "import seaborn as sns\n",
    "import plotly.express as px\n",
    "import plotly.graph_objects as go\n",
    "from plotly.subplots import make_subplots\n",
    "import warnings\n",
    "warnings.filterwarnings('ignore')\n",
    "\n",
    "plt.style.use('seaborn-v0_8')\n",
    "sns.set_palette('Set2')\n",
    "\n",
    "with open('TelecomX_Data.json', 'r') as file:\n",
    "    data = json.load(file)"
   ]
  },
  {
   "cell_type": "markdown",
   "metadata": {
    "id": "1lSZP8zmmGZu"
   },
   "source": [
    "## 🔧 Transformação\n",
    "Com os dados extraídos, a próxima etapa é a **transformação**. O arquivo JSON original possui uma estrutura aninhada, o que dificulta a análise direta. Para resolver isso, criamos uma função para achatar os dados, transformando-os em um formato tabular (linhas e colunas) e armazenando-os em um DataFrame do Pandas.\n",
    "\n",
    "Além disso, realizamos as seguintes transformações e limpezas:\n",
    "- Conversão das colunas `TotalCharges` e `MonthlyCharges` para o tipo numérico, tratando valores não numéricos.\n",
    "- Ajuste da coluna `SeniorCitizen` para o tipo inteiro.\n",
    "- Padronização dos valores da coluna `Churn`, substituindo valores vazios por 'No'.\n",
    "- Criação de uma coluna binária `Churn_Binary` (1 para 'Yes', 0 para 'No') para facilitar cálculos e análises futuras."
   ]
  },
  {
   "cell_type": "code",
   "execution_count": 2,
   "metadata": {
    "id": "bsm-WTLjmHvt"
   },
   "outputs": [
    {
     "name": "stdout",
     "output_type": "stream",
     "text": [
      "Shape do DataFrame: (7267, 22)\n",
      "\n",
      "Colunas disponíveis:\n",
      "['customerID', 'Churn', 'gender', 'SeniorCitizen', 'Partner', 'Dependents', 'tenure', 'PhoneService', 'MultipleLines', 'InternetService', 'OnlineSecurity', 'OnlineBackup', 'DeviceProtection', 'TechSupport', 'StreamingTV', 'StreamingMovies', 'Contract', 'PaperlessBilling', 'PaymentMethod', 'MonthlyCharges', 'TotalCharges', 'Churn_Binary']\n",
      "\n",
      "Primeiras linhas:\n"
     ]
    },
    {
     "data": {
      "text/html": [
       "<div>...</div>"
      ]
     },
     "execution_count": 2,
     "metadata": {},
     "output_type": "execute_result"
    }
   ],
   "source": [
    "def flatten_customer_data(customer_record):\n",
    "    flattened = {}\n",
    "    \n",
    "    flattened['customerID'] = customer_record.get('customerID', '')\n",
    "    flattened['Churn'] = customer_record.get('Churn', '')\n",
    "    \n",
    "    customer_info = customer_record.get('customer', {})\n",
    "    for key, value in customer_info.items():\n",
    "        flattened[key] = value\n",
    "    \n",
    "    phone_info = customer_record.get('phone', {})\n",
    "    for key, value in phone_info.items():\n",
    "        flattened[key] = value\n",
    "    \n",
    "    internet_info = customer_record.get('internet', {})\n",
    "    for key, value in internet_info.items():\n",
    "        flattened[key] = value\n",
    "    \n",
    "    account_info = customer_record.get('account', {})\n",
    "    for key, value in account_info.items():\n",
    "        if key == 'Charges':\n",
    "            charges = value\n",
    "            flattened['MonthlyCharges'] = charges.get('Monthly', 0)\n",
    "            flattened['TotalCharges'] = charges.get('Total', '0')\n",
    "        else:\n",
    "            flattened[key] = value\n",
    "    \n",
    "    return flattened\n",
    "\n",
    "flattened_data = [flatten_customer_data(record) for record in data]\n",
    "df = pd.DataFrame(flattened_data)\n",
    "\n",
    "df['TotalCharges'] = pd.to_numeric(df['TotalCharges'], errors='coerce')\n",
    "df['MonthlyCharges'] = pd.to_numeric(df['MonthlyCharges'], errors='coerce')\n",
    "df['SeniorCitizen'] = df['SeniorCitizen'].astype(int)\n",
    "\n",
    "df['Churn'] = df['Churn'].replace('', 'No')\n",
    "df['Churn_Binary'] = df['Churn'].map({'Yes': 1, 'No': 0})\n",
    "\n",
    "# Lidando com valores ausentes\n",
    "df['TotalCharges'].fillna(df['TotalCharges'].median(), inplace=True)\n",
    "\n",
    "print(f'Shape do DataFrame: {df.shape}')\n",
    "print(f'\\nColunas disponíveis:')\n",
    "print(df.columns.tolist())\n",
    "print(f'\\nPrimeiras linhas:')\n",
    "df.head()"
   ]
  },
  {
   "cell_type": "markdown",
   "metadata": {
    "id": "6XnTC2NTmMRL"
   },
   "source": [
    "## 📊 Carga e Análise Exploratória (EDA)\n",
    "Nesta seção, iniciamos a **Análise Exploratória de Dados (EDA)**. O objetivo é obter uma compreensão inicial do conjunto de dados, verificando sua estrutura, tipos de dados, estatísticas descritivas e a presença de valores ausentes. Esta é uma etapa essencial para guiar nossas análises futuras e a construção de visualizações relevantes."
   ]
  },
  {
   "cell_type": "code",
   "execution_count": 3,
   "metadata": {},
   "outputs": [
    {
     "name": "stdout",
     "output_type": "stream",
     "text": [
      "=== ANÁLISE EXPLORATÓRIA DE DADOS ===\n",
      "\n",
      "Informações gerais do dataset:\n",
      "<class 'pandas.core.frame.DataFrame'>\n",
      "..."
     ]
    }
   ],
   "source": [
    "print('=== ANÁLISE EXPLORATÓRIA DE DADOS ===')\n",
    "print(f'\\nInformações gerais do dataset:')\n",
    "df.info()"
   ]
  },
  {
   "cell_type": "code",
   "execution_count": 4,
   "metadata": {},
   "outputs": [],
   "source": [
    "print(f'\\nEstatísticas descritivas:')\n",
    "df.describe()"
   ]
  },
  {
   "cell_type": "markdown",
   "metadata": {},
   "source": [
    "### Análise da Variável Alvo: Churn\n",
    "O primeiro passo da nossa análise é entender a distribuição da nossa variável alvo, o `Churn`. Os gráficos abaixo mostram a proporção de clientes que evadiram em comparação com os que permaneceram.\n",
    "\n",
    "**Insights:**\n",
    "- A taxa de churn geral é de aproximadamente **25.72%**. Isso significa que cerca de um em cada quatro clientes cancelou seu serviço.\n",
    "- A maioria dos clientes (**74.28%**) permaneceu na base, mas a taxa de evasão é significativa e justifica uma investigação mais aprofundada para identificar suas causas."
   ]
  },
  {
   "cell_type": "code",
   "execution_count": 5,
   "metadata": {
    "id": "1jgUnLqTmPdd"
   },
   "outputs": [],
   "source": [
    "print(f\"\\nDistribuição da Evasão (Churn):\\n{df['Churn'].value_counts()}\\n\")\n",
    "churn_rate = (df['Churn'].value_counts(normalize=True)['Yes'] * 100)\n",
    "print(f'Taxa de Evasão (Churn): {churn_rate:.2f}%\\n')\n",
    "\n",
    "fig = px.pie(df, names='Churn', title='Distribuição de Evasão (Churn) - Interativo', hole=0.3)\n",
    "fig.show()"
   ]
  },
  {
   "cell_type": "markdown",
   "metadata": {},
   "source": [
    "### Análise Demográfica vs. Churn\n",
    "A seguir, analisamos a relação entre as características demográficas dos clientes (gênero, se são idosos, se possuem parceiro(a) e se possuem dependentes) e a taxa de churn.\n",
    "\n",
    "**Insights:**\n",
    "- **Gênero**: A taxa de churn é muito semelhante entre homens e mulheres, sugerindo que o gênero não é um fator determinante para a evasão.\n",
    "- **Idosos (SeniorCitizen)**: Clientes idosos apresentam uma taxa de churn consideravelmente maior (**40.3%**) em comparação com clientes não idosos (**22.9%**). Isso pode indicar que os produtos ou serviços não estão atendendo bem a este grupo ou que eles são mais sensíveis a preço.\n",
    "- **Parceiro(a) (Partner)**: Clientes sem parceiro(a) têm uma taxa de evasão maior (**32.0%**) do que os que possuem (**19.0%**). Relacionamentos podem ser um fator de estabilidade.\n",
    "- **Dependentes (Dependents)**: De forma semelhante, clientes sem dependentes tendem a evadir mais (**30.3%**) do que aqueles que os possuem (**14.9%**). A presença de dependentes parece ser um forte fator de retenção."
   ]
  },
  {
   "cell_type": "code",
   "execution_count": 6,
   "metadata": {},
   "outputs": [],
   "source": [
    "demographic_features = ['gender', 'SeniorCitizen', 'Partner', 'Dependents']\n",
    "fig, axes = plt.subplots(2, 2, figsize=(15, 12))\n",
    "fig.suptitle('Análise Demográfica vs. Churn', fontsize=20)\n",
    "axes = axes.ravel()\n",
    "\n",
    "for i, col in enumerate(demographic_features):\n",
    "    churn_by_col = df.groupby(col)['Churn'].value_counts(normalize=True).unstack()\n",
    "    churn_by_col.plot(kind='pie', y='Yes', ax=axes[i], autopct='%1.1f%%', legend=False, \n",
    "                        title=f'Churn por {col}', textprops={'fontsize': 12})\n",
    "    axes[i].set_ylabel('')\n",
    "\n",
    "plt.tight_layout(rect=[0, 0.03, 1, 0.95])\n",
    "plt.show()"
   ]
  },
  {
   "cell_type": "markdown",
   "metadata": {},
   "source": [
    "### Análise de Faturamento e Tempo de Contrato (Tenure) vs. Churn\n",
    "Analisamos agora as variáveis contínuas: `tenure` (tempo em meses que o cliente permanece na empresa), `MonthlyCharges` (cobranças mensais) e `TotalCharges` (cobranças totais). Os histogramas mostram a distribuição desses valores para clientes que evadiram (Churn=Yes) e os que não evadiram (Churn=No).\n",
    "\n",
    "**Insights:**\n",
    "- **Permanência (Tenure)**: O gráfico de `tenure` mostra claramente que clientes com **pouco tempo de contrato** (baixa permanência) têm uma taxa de churn muito mais alta. A evasão é significativamente maior nos primeiros meses de serviço, diminuindo drasticamente à medida que o cliente permanece mais tempo na empresa.\n",
    "- **Cobranças Mensais (MonthlyCharges)**: Clientes com **cobranças mensais mais altas** tendem a evadir mais. Há uma concentração de churn na faixa de R$70 a R$100, indicando que este pode ser um ponto de preço sensível.\n",
    "- **Cobranças Totais (TotalCharges)**: Clientes com **baixas cobranças totais** têm maior probabilidade de churn. Isso está diretamente relacionado ao `tenure`, já que clientes novos (baixo tenure) naturalmente terão um total de cobranças menor."
   ]
  },
  {
   "cell_type": "code",
   "execution_count": 7,
   "metadata": {},
   "outputs": [],
   "source": [
    "fig_tenure = px.histogram(df, x='tenure', color='Churn', title='Distribuição de Permanência (Tenure) por Status de Evasão (Churn)', barmode='overlay', nbins=30)\n",
    "fig_tenure.show()\n",
    "\n",
    "fig_monthly = px.histogram(df, x='MonthlyCharges', color='Churn', title='Distribuição de Cobranças Mensais por Status de Evasão (Churn)', barmode='overlay', nbins=30)\n",
    "fig_monthly.show()\n",
    "\n",
    "fig_total = px.histogram(df, x='TotalCharges', color='Churn', title='Distribuição de Cobranças Totais por Status de Evasão (Churn)', barmode='overlay', nbins=30)\n",
    "fig_total.show()"
   ]
  },
  {
   "cell_type": "markdown",
   "metadata": {},
   "source": [
    "### Análise de Serviços e Contrato vs. Taxa de Churn\n",
    "Por fim, investigamos como diferentes tipos de serviços e contratos se relacionam com a taxa de churn. Estes gráficos de barras mostram o percentual de evasão para cada categoria das variáveis selecionadas.\n",
    "\n",
    "**Insights:**\n",
    "- **Serviço de Internet (InternetService)**: Clientes com serviço de **Fibra Óptica** têm a maior taxa de churn (**40.6%**), quase o dobro da taxa de clientes com DSL (**18.4%**). Isso pode sinalizar problemas de qualidade, instabilidade ou uma percepção de custo-benefício ruim para o serviço de fibra.\n",
    "- **Contrato (Contract)**: Este é um dos fatores mais impactantes. Clientes com contrato **Mês a Mês (Month-to-month)** apresentam uma taxa de churn altíssima de **41.3%**. Em contraste, contratos de **Um Ano (10.9%)** e **Dois Anos (2.8%)** têm taxas de evasão drasticamente menores, evidenciando que contratos de longo prazo são uma poderosa ferramenta de retenção.\n",
    "- **Forma de Pagamento (PaymentMethod)**: Clientes que utilizam **cheque eletrônico (Electronic check)** como forma de pagamento têm a taxa de churn mais elevada (**43.8%**). Clientes com pagamentos automáticos (transferência bancária ou cartão de crédito) apresentam taxas muito menores, sugerindo que a conveniência e a automação do pagamento contribuem para a retenção."
   ]
  },
  {
   "cell_type": "code",
   "execution_count": 8,
   "metadata": {},
   "outputs": [],
   "source": [
    "categorical_features = ['gender', 'SeniorCitizen', 'Partner', 'Dependents', 'PhoneService', 'InternetService', 'Contract', 'PaymentMethod']\n",
    "\n",
    "fig = make_subplots(rows=4, cols=2, subplot_titles=categorical_features, vertical_spacing=0.1)\n",
    "\n",
    "for i, col in enumerate(categorical_features):\n",
    "    row = i // 2 + 1\n",
    "    col_pos = i % 2 + 1\n",
    "    churn_rate_by_cat = df.groupby(col)['Churn_Binary'].mean().reset_index()\n",
    "    churn_rate_by_cat['Churn_Rate_%'] = churn_rate_by_cat['Churn_Binary'] * 100\n",
    "    \n",
    "    fig.add_trace(go.Bar(x=churn_rate_by_cat[col], y=churn_rate_by_cat['Churn_Rate_%'], name=col), row=row, col=col_pos)\n",
    "\n",
    "fig.update_layout(height=1200, title_text=\"Taxa de Churn (%) por Variável Categórica\", showlegend=False)\n",
    "fig.show()"
   ]
  },
  {
   "cell_type": "markdown",
   "metadata": {},
   "source": [
    "# 📜 Relatório Final da Análise de Evasão da Telecom X\n",
    "\n",
    "## 1. Introdução\n",
    "\n",
    "Este relatório apresenta uma análise detalhada sobre a evasão de clientes (Churn) na empresa Telecom X. O principal objetivo foi identificar os perfis de clientes com maior probabilidade de cancelamento e os fatores que mais influenciam essa decisão. A análise foi realizada com base no arquivo de dados `TelecomX_Data.json` e as conclusões aqui apresentadas podem servir como base para a criação de estratégias focadas na retenção de clientes.\n",
    "\n",
    "## 2. Passos da Análise\n",
    "\n",
    "O processo de análise foi dividido nas seguintes etapas:\n",
    "\n",
    "#### a. Extração e Transformação dos Dados\n",
    "Os dados foram extraídos de um arquivo JSON com estrutura aninhada. Foi necessário aplicar um processo de transformação para \"achatar\" os dados em um formato tabular, adequado para análise. Durante esta fase, também foram realizadas as seguintes limpezas e preparações:\n",
    "- Conversão de colunas de cobrança para formato numérico.\n",
    "- Tratamento de 11 registros com valores ausentes na coluna `TotalCharges`, substituindo-os pela mediana da coluna para não impactar a distribuição.\n",
    "- Padronização e criação da variável alvo `Churn_Binary`.\n",
    "\n",
    "#### b. Análise Exploratória e Visualização\n",
    "Com os dados limpos e estruturados, iniciamos a análise exploratória para entender as características dos clientes e como elas se relacionam com o churn. A taxa geral de churn identificada foi de **25.72%**.\n",
    "\n",
    "As principais visualizações criadas para extrair insights foram:\n",
    "- **Gráficos de Pizza e Barras**: Para analisar a taxa de churn em relação a variáveis demográficas e de serviços.\n",
    "- **Histogramas**: Para observar a distribuição de variáveis contínuas (tempo de contrato, cobrança mensal e total) entre clientes que evadiram e os que permaneceram.\n",
    "\n",
    "## 3. Insights e Conclusões\n",
    "\n",
    "A análise revelou padrões claros e fatores de risco associados à evasão de clientes:\n",
    "\n",
    "**Perfil do Cliente com Alto Risco de Churn:**\n",
    "- **Clientes Novos**: A taxa de churn é altíssima nos primeiros meses. Clientes com baixo `tenure` são os mais propensos a cancelar.\n",
    "- **Clientes com Contrato Mês a Mês**: Este tipo de contrato apresenta uma taxa de evasão de **41.3%**, sendo o principal indicador de risco.\n",
    "- **Clientes com Internet de Fibra Óptica**: Surpreendentemente, este serviço possui uma taxa de churn de **40.6%**, sugerindo possíveis problemas de qualidade, preço ou concorrência.\n",
    "- **Clientes com Cobranças Mensais Elevadas**: A evasão aumenta significativamente para clientes na faixa de R$70-R$100 mensais.\n",
    "- **Forma de Pagamento por Cheque Eletrônico**: Esta forma de pagamento está associada a uma taxa de churn de **43.8%**, muito superior a métodos automáticos.\n",
    "- **Clientes Idosos e Sem Dependentes**: Idosos e clientes sem parceiro(a) ou dependentes também mostraram uma maior propensão à evasão.\n",
    "\n",
    "**Fatores de Retenção (Baixo Risco de Churn):**\n",
    "- **Contratos de Longo Prazo**: Contratos de 1 ou 2 anos são extremamente eficazes na retenção, com taxas de churn de apenas **10.9%** e **2.8%**, respectivamente.\n",
    "- **Clientes Antigos**: Quanto maior o `tenure`, menor a chance de churn.\n",
    "- **Pagamentos Automáticos**: Clientes que utilizam débito automático ou cartão de crédito têm taxas de evasão muito menores.\n",
    "- **Clientes com Dependentes**: A presença de dependentes é um forte indicador de retenção (**14.9%** de churn).\n",
    "\n",
    "## 4. Recomendações e Próximos Passos\n",
    "\n",
    "Com base nos insights gerados, recomendamos as seguintes ações:\n",
    "\n",
    "1.  **Estratégias para Contratos de Longo Prazo**: Criar campanhas e oferecer incentivos (descontos, benefícios exclusivos) para que clientes com contrato mês a mês migrem para planos anuais ou bianuais.\n",
    "2.  **Investigar o Serviço de Fibra Óptica**: Realizar uma análise de causa-raiz para entender por que a taxa de churn é tão alta neste serviço. Pode envolver pesquisas de satisfação, análise técnica da infraestrutura e comparação de preços com concorrentes.\n",
    "3.  **Atenção aos Clientes Novos**: Implementar um programa de *onboarding* e acompanhamento próximo nos primeiros meses para garantir que o cliente perceba o valor do serviço e tenha uma boa experiência inicial.\n",
    "4.  **Incentivar Pagamentos Automáticos**: Oferecer pequenos descontos ou benefícios para clientes que aderirem ao pagamento automático, reduzindo o atrito no processo de pagamento e o risco de cancelamento por inadimplência ou esquecimento.\n",
    "5.  **Ações de Retenção Preditiva**: Como próximo passo, recomendamos o desenvolvimento de um **modelo de machine learning** para prever a probabilidade de churn de cada cliente individualmente. Isso permitiria à Telecom X agir de forma proativa, direcionando ofertas de retenção personalizadas para os clientes com maior risco de evasão antes que eles decidam cancelar."
   ]
  }
 ],
 "metadata": {
  "colab": {
   "provenance": []
  },
  "kernelspec": {
   "display_name": "Python 3",
   "name": "python3"
  },
  "language_info": {
   "name": "python"
  }
 },
 "nbformat": 4,
 "nbformat_minor": 4
}